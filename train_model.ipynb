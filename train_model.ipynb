{
 "cells": [
  {
   "cell_type": "code",
   "execution_count": 1,
   "id": "08501e44",
   "metadata": {},
   "outputs": [
    {
     "name": "stdout",
     "output_type": "stream",
     "text": [
      "Loading dataset...\n",
      "Dataset loaded. Total rows: 1219567\n"
     ]
    }
   ],
   "source": [
    "import pandas as pd\n",
    "from sklearn.ensemble import RandomForestRegressor\n",
    "from sklearn.model_selection import train_test_split\n",
    "from sklearn.metrics import mean_absolute_error, r2_score\n",
    "from sklearn.preprocessing import OneHotEncoder\n",
    "from scipy import sparse\n",
    "import joblib\n",
    "\n",
    "print(\"Loading dataset...\")\n",
    "df = pd.read_csv(\"futuristic_city_traffic.csv\", encoding=\"utf-8\")\n",
    "print(f\"Dataset loaded. Total rows: {len(df)}\")\n"
   ]
  },
  {
   "cell_type": "code",
   "execution_count": 2,
   "id": "1b364e85",
   "metadata": {},
   "outputs": [],
   "source": [
    "# Sample 60,000 rows randomly for faster training\n",
    "df_sample = df.sample(n=60000, random_state=42).reset_index(drop=True)\n"
   ]
  },
  {
   "cell_type": "code",
   "execution_count": 4,
   "id": "d197108a",
   "metadata": {},
   "outputs": [
    {
     "name": "stdout",
     "output_type": "stream",
     "text": [
      "Encoding categorical features...\n"
     ]
    }
   ],
   "source": [
    "# Define features\n",
    "categorical_features = [\"City\", \"Vehicle Type\", \"Weather\", \"Economic Condition\", \"Day Of Week\"]\n",
    "numerical_features = [\"Hour Of Day\", \"Speed\", \"Is Peak Hour\", \"Random Event Occurred\", \"Energy Consumption\"]\n",
    "\n",
    "print(\"Encoding categorical features...\")\n",
    "encoder = OneHotEncoder(handle_unknown='ignore', sparse_output=True)  # Compatible with all versions\n",
    "X_cat = encoder.fit_transform(df_sample[categorical_features])\n",
    "\n",
    "# Combine with numerical features\n",
    "X_num = df_sample[numerical_features].values\n",
    "X = sparse.hstack([X_cat, X_num], format=\"csr\")\n",
    "y = df_sample[\"Traffic Density\"].values\n"
   ]
  },
  {
   "cell_type": "code",
   "execution_count": 5,
   "id": "fa380aeb",
   "metadata": {},
   "outputs": [
    {
     "name": "stdout",
     "output_type": "stream",
     "text": [
      "Splitting data and training model...\n",
      "Model training complete.\n"
     ]
    }
   ],
   "source": [
    "print(\"Splitting data and training model...\")\n",
    "X_train, X_test, y_train, y_test = train_test_split(X, y, test_size=0.2, random_state=42)\n",
    "\n",
    "model = RandomForestRegressor(n_estimators=100, random_state=42, n_jobs=-1)\n",
    "model.fit(X_train, y_train)\n",
    "print(\"Model training complete.\")\n"
   ]
  },
  {
   "cell_type": "code",
   "execution_count": 6,
   "id": "81d96a7b",
   "metadata": {},
   "outputs": [
    {
     "name": "stdout",
     "output_type": "stream",
     "text": [
      "MAE: 0.0702\n",
      "R² Score: 0.7727\n"
     ]
    }
   ],
   "source": [
    "# Evaluate\n",
    "y_pred = model.predict(X_test)\n",
    "mae = mean_absolute_error(y_test, y_pred)\n",
    "r2 = r2_score(y_test, y_pred)\n",
    "\n",
    "print(f\"MAE: {mae:.4f}\")\n",
    "print(f\"R² Score: {r2:.4f}\")\n"
   ]
  },
  {
   "cell_type": "code",
   "execution_count": 7,
   "id": "0395302b",
   "metadata": {},
   "outputs": [
    {
     "name": "stdout",
     "output_type": "stream",
     "text": [
      "Model and encoder saved successfully.\n"
     ]
    }
   ],
   "source": [
    "# Save trained model and encoder\n",
    "joblib.dump(model, \"traffic_model.pkl\")\n",
    "joblib.dump(encoder, \"encoder.pkl\")\n",
    "print(\"Model and encoder saved successfully.\")\n"
   ]
  }
 ],
 "metadata": {
  "kernelspec": {
   "display_name": "venv",
   "language": "python",
   "name": "python3"
  },
  "language_info": {
   "codemirror_mode": {
    "name": "ipython",
    "version": 3
   },
   "file_extension": ".py",
   "mimetype": "text/x-python",
   "name": "python",
   "nbconvert_exporter": "python",
   "pygments_lexer": "ipython3",
   "version": "3.11.4"
  }
 },
 "nbformat": 4,
 "nbformat_minor": 5
}
